{
 "cells": [
  {
   "cell_type": "code",
   "execution_count": 1,
   "id": "35fca68e-a835-44c2-995e-e304a464097f",
   "metadata": {},
   "outputs": [
    {
     "name": "stderr",
     "output_type": "stream",
     "text": [
      "No ROCm runtime is found, using ROCM_HOME='/opt/rocm-6.4.3'\n",
      "Using /home/sk937/.cache/torch_extensions/py313_cu126 as PyTorch extensions root...\n",
      "Creating extension directory /home/sk937/.cache/torch_extensions/py313_cu126/gpu_kernels...\n",
      "Detected CUDA files, patching ldflags\n",
      "Emitting ninja build file /home/sk937/.cache/torch_extensions/py313_cu126/gpu_kernels/build.ninja...\n",
      "Building extension module gpu_kernels...\n",
      "Allowing ninja to set a default number of workers... (overridable by setting the environment variable MAX_JOBS=N)\n"
     ]
    },
    {
     "name": "stdout",
     "output_type": "stream",
     "text": [
      "[1/8] /home/sk937/spack/var/spack/environments/cuda/.spack-env/view/bin/nvcc --generate-dependencies-with-compile --dependency-output convolution.cuda.o.d -DTORCH_EXTENSION_NAME=gpu_kernels -DTORCH_API_INCLUDE_EXTENSION_H -DPYBIND11_COMPILER_TYPE=\\\"_gcc\\\" -DPYBIND11_STDLIB=\\\"_libstdcpp\\\" -DPYBIND11_BUILD_ABI=\\\"_cxxabi1016\\\" -isystem /home/sk937/spack/var/spack/environments/cuda/.spack-env/view/lib/python3.13/site-packages/torch/include -isystem /home/sk937/spack/var/spack/environments/cuda/.spack-env/view/lib/python3.13/site-packages/torch/include/torch/csrc/api/include -isystem /home/sk937/spack/var/spack/environments/cuda/.spack-env/view/include -isystem /home/sk937/spack/opt/spack/linux-ubuntu24.04-sapphirerapids/gcc-13.3.0/python-3.13.0-o2jyax6hjh3hmrevm4o2vgaziszy7a3v/include/python3.13 -D_GLIBCXX_USE_CXX11_ABI=1 -D__CUDA_NO_HALF_OPERATORS__ -D__CUDA_NO_HALF_CONVERSIONS__ -D__CUDA_NO_BFLOAT16_CONVERSIONS__ -D__CUDA_NO_HALF2_OPERATORS__ --expt-relaxed-constexpr -gencode=arch=compute_89,code=sm_89 --compiler-options '-fPIC' -O3 -std=c++17 -c /home/sk937/gpu-patterns/patterns/gpu_patterns/kernels/convolution.cu -o convolution.cuda.o \n",
      "[2/8] /home/sk937/spack/var/spack/environments/cuda/.spack-env/view/bin/nvcc --generate-dependencies-with-compile --dependency-output sparse.cuda.o.d -DTORCH_EXTENSION_NAME=gpu_kernels -DTORCH_API_INCLUDE_EXTENSION_H -DPYBIND11_COMPILER_TYPE=\\\"_gcc\\\" -DPYBIND11_STDLIB=\\\"_libstdcpp\\\" -DPYBIND11_BUILD_ABI=\\\"_cxxabi1016\\\" -isystem /home/sk937/spack/var/spack/environments/cuda/.spack-env/view/lib/python3.13/site-packages/torch/include -isystem /home/sk937/spack/var/spack/environments/cuda/.spack-env/view/lib/python3.13/site-packages/torch/include/torch/csrc/api/include -isystem /home/sk937/spack/var/spack/environments/cuda/.spack-env/view/include -isystem /home/sk937/spack/opt/spack/linux-ubuntu24.04-sapphirerapids/gcc-13.3.0/python-3.13.0-o2jyax6hjh3hmrevm4o2vgaziszy7a3v/include/python3.13 -D_GLIBCXX_USE_CXX11_ABI=1 -D__CUDA_NO_HALF_OPERATORS__ -D__CUDA_NO_HALF_CONVERSIONS__ -D__CUDA_NO_BFLOAT16_CONVERSIONS__ -D__CUDA_NO_HALF2_OPERATORS__ --expt-relaxed-constexpr -gencode=arch=compute_89,code=sm_89 --compiler-options '-fPIC' -O3 -std=c++17 -c /home/sk937/gpu-patterns/patterns/gpu_patterns/kernels/sparse.cu -o sparse.cuda.o \n",
      "[3/8] /home/sk937/spack/var/spack/environments/cuda/.spack-env/view/bin/nvcc --generate-dependencies-with-compile --dependency-output dense.cuda.o.d -DTORCH_EXTENSION_NAME=gpu_kernels -DTORCH_API_INCLUDE_EXTENSION_H -DPYBIND11_COMPILER_TYPE=\\\"_gcc\\\" -DPYBIND11_STDLIB=\\\"_libstdcpp\\\" -DPYBIND11_BUILD_ABI=\\\"_cxxabi1016\\\" -isystem /home/sk937/spack/var/spack/environments/cuda/.spack-env/view/lib/python3.13/site-packages/torch/include -isystem /home/sk937/spack/var/spack/environments/cuda/.spack-env/view/lib/python3.13/site-packages/torch/include/torch/csrc/api/include -isystem /home/sk937/spack/var/spack/environments/cuda/.spack-env/view/include -isystem /home/sk937/spack/opt/spack/linux-ubuntu24.04-sapphirerapids/gcc-13.3.0/python-3.13.0-o2jyax6hjh3hmrevm4o2vgaziszy7a3v/include/python3.13 -D_GLIBCXX_USE_CXX11_ABI=1 -D__CUDA_NO_HALF_OPERATORS__ -D__CUDA_NO_HALF_CONVERSIONS__ -D__CUDA_NO_BFLOAT16_CONVERSIONS__ -D__CUDA_NO_HALF2_OPERATORS__ --expt-relaxed-constexpr -gencode=arch=compute_89,code=sm_89 --compiler-options '-fPIC' -O3 -std=c++17 -c /home/sk937/gpu-patterns/patterns/gpu_patterns/kernels/dense.cu -o dense.cuda.o \n",
      "[4/8] /home/sk937/spack/var/spack/environments/cuda/.spack-env/view/bin/nvcc --generate-dependencies-with-compile --dependency-output reduction.cuda.o.d -DTORCH_EXTENSION_NAME=gpu_kernels -DTORCH_API_INCLUDE_EXTENSION_H -DPYBIND11_COMPILER_TYPE=\\\"_gcc\\\" -DPYBIND11_STDLIB=\\\"_libstdcpp\\\" -DPYBIND11_BUILD_ABI=\\\"_cxxabi1016\\\" -isystem /home/sk937/spack/var/spack/environments/cuda/.spack-env/view/lib/python3.13/site-packages/torch/include -isystem /home/sk937/spack/var/spack/environments/cuda/.spack-env/view/lib/python3.13/site-packages/torch/include/torch/csrc/api/include -isystem /home/sk937/spack/var/spack/environments/cuda/.spack-env/view/include -isystem /home/sk937/spack/opt/spack/linux-ubuntu24.04-sapphirerapids/gcc-13.3.0/python-3.13.0-o2jyax6hjh3hmrevm4o2vgaziszy7a3v/include/python3.13 -D_GLIBCXX_USE_CXX11_ABI=1 -D__CUDA_NO_HALF_OPERATORS__ -D__CUDA_NO_HALF_CONVERSIONS__ -D__CUDA_NO_BFLOAT16_CONVERSIONS__ -D__CUDA_NO_HALF2_OPERATORS__ --expt-relaxed-constexpr -gencode=arch=compute_89,code=sm_89 --compiler-options '-fPIC' -O3 -std=c++17 -c /home/sk937/gpu-patterns/patterns/gpu_patterns/kernels/reduction.cu -o reduction.cuda.o \n",
      "[5/8] /home/sk937/spack/var/spack/environments/cuda/.spack-env/view/bin/nvcc --generate-dependencies-with-compile --dependency-output prefix_sum.cuda.o.d -DTORCH_EXTENSION_NAME=gpu_kernels -DTORCH_API_INCLUDE_EXTENSION_H -DPYBIND11_COMPILER_TYPE=\\\"_gcc\\\" -DPYBIND11_STDLIB=\\\"_libstdcpp\\\" -DPYBIND11_BUILD_ABI=\\\"_cxxabi1016\\\" -isystem /home/sk937/spack/var/spack/environments/cuda/.spack-env/view/lib/python3.13/site-packages/torch/include -isystem /home/sk937/spack/var/spack/environments/cuda/.spack-env/view/lib/python3.13/site-packages/torch/include/torch/csrc/api/include -isystem /home/sk937/spack/var/spack/environments/cuda/.spack-env/view/include -isystem /home/sk937/spack/opt/spack/linux-ubuntu24.04-sapphirerapids/gcc-13.3.0/python-3.13.0-o2jyax6hjh3hmrevm4o2vgaziszy7a3v/include/python3.13 -D_GLIBCXX_USE_CXX11_ABI=1 -D__CUDA_NO_HALF_OPERATORS__ -D__CUDA_NO_HALF_CONVERSIONS__ -D__CUDA_NO_BFLOAT16_CONVERSIONS__ -D__CUDA_NO_HALF2_OPERATORS__ --expt-relaxed-constexpr -gencode=arch=compute_89,code=sm_89 --compiler-options '-fPIC' -O3 -std=c++17 -c /home/sk937/gpu-patterns/patterns/gpu_patterns/kernels/prefix_sum.cu -o prefix_sum.cuda.o \n",
      "[6/8] c++ -MMD -MF ops.o.d -DTORCH_EXTENSION_NAME=gpu_kernels -DTORCH_API_INCLUDE_EXTENSION_H -DPYBIND11_COMPILER_TYPE=\\\"_gcc\\\" -DPYBIND11_STDLIB=\\\"_libstdcpp\\\" -DPYBIND11_BUILD_ABI=\\\"_cxxabi1016\\\" -isystem /home/sk937/spack/var/spack/environments/cuda/.spack-env/view/lib/python3.13/site-packages/torch/include -isystem /home/sk937/spack/var/spack/environments/cuda/.spack-env/view/lib/python3.13/site-packages/torch/include/torch/csrc/api/include -isystem /home/sk937/spack/var/spack/environments/cuda/.spack-env/view/include -isystem /home/sk937/spack/opt/spack/linux-ubuntu24.04-sapphirerapids/gcc-13.3.0/python-3.13.0-o2jyax6hjh3hmrevm4o2vgaziszy7a3v/include/python3.13 -D_GLIBCXX_USE_CXX11_ABI=1 -fPIC -std=c++17 -O3 -c /home/sk937/gpu-patterns/patterns/gpu_patterns/kernels/ops.cpp -o ops.o \n",
      "[7/8] /home/sk937/spack/var/spack/environments/cuda/.spack-env/view/bin/nvcc --generate-dependencies-with-compile --dependency-output kernels.cuda.o.d -DTORCH_EXTENSION_NAME=gpu_kernels -DTORCH_API_INCLUDE_EXTENSION_H -DPYBIND11_COMPILER_TYPE=\\\"_gcc\\\" -DPYBIND11_STDLIB=\\\"_libstdcpp\\\" -DPYBIND11_BUILD_ABI=\\\"_cxxabi1016\\\" -isystem /home/sk937/spack/var/spack/environments/cuda/.spack-env/view/lib/python3.13/site-packages/torch/include -isystem /home/sk937/spack/var/spack/environments/cuda/.spack-env/view/lib/python3.13/site-packages/torch/include/torch/csrc/api/include -isystem /home/sk937/spack/var/spack/environments/cuda/.spack-env/view/include -isystem /home/sk937/spack/opt/spack/linux-ubuntu24.04-sapphirerapids/gcc-13.3.0/python-3.13.0-o2jyax6hjh3hmrevm4o2vgaziszy7a3v/include/python3.13 -D_GLIBCXX_USE_CXX11_ABI=1 -D__CUDA_NO_HALF_OPERATORS__ -D__CUDA_NO_HALF_CONVERSIONS__ -D__CUDA_NO_BFLOAT16_CONVERSIONS__ -D__CUDA_NO_HALF2_OPERATORS__ --expt-relaxed-constexpr -gencode=arch=compute_89,code=sm_89 --compiler-options '-fPIC' -O3 -std=c++17 -c /home/sk937/gpu-patterns/patterns/gpu_patterns/kernels/kernels.cu -o kernels.cuda.o \n",
      "[8/8] c++ ops.o prefix_sum.cuda.o sparse.cuda.o dense.cuda.o reduction.cuda.o convolution.cuda.o kernels.cuda.o -shared -L/home/sk937/spack/var/spack/environments/cuda/.spack-env/view/lib/python3.13/site-packages/torch/lib -lc10 -lc10_cuda -ltorch_cpu -ltorch_cuda -ltorch -ltorch_python -L/home/sk937/spack/var/spack/environments/cuda/.spack-env/view/lib64 -lcudart -o gpu_kernels.so\n"
     ]
    },
    {
     "name": "stderr",
     "output_type": "stream",
     "text": [
      "Loading extension module gpu_kernels...\n"
     ]
    }
   ],
   "source": [
    "import patterns\n",
    "import numpy\n",
    "\n",
    "from patterns import gpu_patterns\n",
    "from patterns import cpu_patterns"
   ]
  },
  {
   "cell_type": "code",
   "execution_count": null,
   "id": "32f7af44-ef26-4efc-be4c-be371cbae550",
   "metadata": {},
   "outputs": [],
   "source": []
  }
 ],
 "metadata": {
  "kernelspec": {
   "display_name": "Python 3 (ipykernel)",
   "language": "python",
   "name": "python3"
  },
  "language_info": {
   "codemirror_mode": {
    "name": "ipython",
    "version": 3
   },
   "file_extension": ".py",
   "mimetype": "text/x-python",
   "name": "python",
   "nbconvert_exporter": "python",
   "pygments_lexer": "ipython3",
   "version": "3.13.0"
  }
 },
 "nbformat": 4,
 "nbformat_minor": 5
}

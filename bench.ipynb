{
 "cells": [
  {
   "cell_type": "code",
   "execution_count": 1,
   "id": "35fca68e-a835-44c2-995e-e304a464097f",
   "metadata": {},
   "outputs": [
    {
     "name": "stdout",
     "output_type": "stream",
     "text": [
      "ninja: no work to do.\n",
      "ninja: no work to do.\n"
     ]
    }
   ],
   "source": [
    "import numpy as np\n",
    "import torch\n",
    "\n",
    "from patterns import gpu_kernels, cpu_kernels"
   ]
  },
  {
   "cell_type": "code",
   "execution_count": 2,
   "id": "cfa71337-1e20-4913-9522-89f03d43da5d",
   "metadata": {},
   "outputs": [],
   "source": [
    "np.random.seed(0)"
   ]
  },
  {
   "cell_type": "markdown",
   "id": "5f6a2fa1-9832-4571-8550-55e637afe108",
   "metadata": {},
   "source": [
    "# Transpose"
   ]
  },
  {
   "cell_type": "code",
   "execution_count": 13,
   "id": "3b42740f-0c21-4024-a08d-231292c07571",
   "metadata": {},
   "outputs": [],
   "source": [
    "a = np.random.rand(1234,4321)"
   ]
  },
  {
   "cell_type": "code",
   "execution_count": 14,
   "id": "4f9158fa-cbf0-4873-983b-c4d4d4b4d3c3",
   "metadata": {},
   "outputs": [
    {
     "data": {
      "text/plain": [
       "array([[0.68955605, 0.97451698, 0.80805917, ..., 0.88222834, 0.28573881,\n",
       "        0.21503912],\n",
       "       [0.22007028, 0.65565936, 0.81787331, ..., 0.98165882, 0.6976585 ,\n",
       "        0.8480299 ],\n",
       "       [0.67321817, 0.47293748, 0.04813775, ..., 0.14033418, 0.37359668,\n",
       "        0.34660268],\n",
       "       ...,\n",
       "       [0.75773075, 0.41573074, 0.40319126, ..., 0.72010988, 0.45683561,\n",
       "        0.41484372],\n",
       "       [0.34662585, 0.8670842 , 0.47031758, ..., 0.81747909, 0.30162878,\n",
       "        0.10216754],\n",
       "       [0.0588318 , 0.6555644 , 0.48168849, ..., 0.62907523, 0.67850552,\n",
       "        0.14516577]], shape=(1234, 4321))"
      ]
     },
     "execution_count": 14,
     "metadata": {},
     "output_type": "execute_result"
    }
   ],
   "source": [
    "a"
   ]
  },
  {
   "cell_type": "code",
   "execution_count": 15,
   "id": "28086c43-225a-45eb-9534-5875b52c454f",
   "metadata": {},
   "outputs": [],
   "source": [
    "device = torch.device(0)"
   ]
  },
  {
   "cell_type": "code",
   "execution_count": 16,
   "id": "8e85c212-bf9a-4111-9640-e3553746188e",
   "metadata": {},
   "outputs": [
    {
     "data": {
      "text/plain": [
       "array([[0.68955605, 0.97451698, 0.80805917, ..., 0.88222834, 0.28573881,\n",
       "        0.21503912],\n",
       "       [0.22007028, 0.65565936, 0.81787331, ..., 0.98165882, 0.6976585 ,\n",
       "        0.8480299 ],\n",
       "       [0.67321817, 0.47293748, 0.04813775, ..., 0.14033418, 0.37359668,\n",
       "        0.34660268],\n",
       "       ...,\n",
       "       [0.75773075, 0.41573074, 0.40319126, ..., 0.72010988, 0.45683561,\n",
       "        0.41484372],\n",
       "       [0.34662585, 0.8670842 , 0.47031758, ..., 0.81747909, 0.30162878,\n",
       "        0.10216754],\n",
       "       [0.0588318 , 0.6555644 , 0.48168849, ..., 0.62907523, 0.67850552,\n",
       "        0.14516577]], shape=(1234, 4321))"
      ]
     },
     "execution_count": 16,
     "metadata": {},
     "output_type": "execute_result"
    }
   ],
   "source": [
    "a"
   ]
  },
  {
   "cell_type": "code",
   "execution_count": 17,
   "id": "0cf29693-0ffb-4cb7-855c-2003529ffb35",
   "metadata": {},
   "outputs": [],
   "source": [
    "b = gpu_kernels.two_dim_transpose(torch.from_numpy(a).to(device))"
   ]
  },
  {
   "cell_type": "code",
   "execution_count": 18,
   "id": "c4ee396b-b809-4f2a-8c7e-a407599d24ca",
   "metadata": {},
   "outputs": [
    {
     "data": {
      "text/plain": [
       "torch.Size([4321, 1234])"
      ]
     },
     "execution_count": 18,
     "metadata": {},
     "output_type": "execute_result"
    }
   ],
   "source": [
    "b.shape"
   ]
  },
  {
   "cell_type": "code",
   "execution_count": 4,
   "id": "41b3589e-0375-4a3e-a899-bd2065866157",
   "metadata": {},
   "outputs": [],
   "source": [
    "# expected = a.T"
   ]
  },
  {
   "cell_type": "code",
   "execution_count": 5,
   "id": "34bfaca9-2e05-40b5-8c1f-c8a64cec8a61",
   "metadata": {},
   "outputs": [],
   "source": [
    "# result = cpu_kernels.two_dim_transpose(a)"
   ]
  },
  {
   "cell_type": "code",
   "execution_count": 6,
   "id": "63f0f890-b8f9-4b02-ad67-81211ad204a7",
   "metadata": {},
   "outputs": [],
   "source": [
    "# np.abs(result - expected)"
   ]
  },
  {
   "cell_type": "code",
   "execution_count": 7,
   "id": "2c1fcb85-8bdf-4692-ac27-9f0425e827f1",
   "metadata": {},
   "outputs": [],
   "source": [
    "# assert np.allclose(result, expected)"
   ]
  },
  {
   "cell_type": "code",
   "execution_count": 8,
   "id": "d58af2d3-29ee-4ca0-b92d-29e35b63b2aa",
   "metadata": {},
   "outputs": [],
   "source": [
    "# %%timeit\n",
    "# result = cpu_kernels.two_dim_transpose(a)"
   ]
  },
  {
   "cell_type": "code",
   "execution_count": 9,
   "id": "e490236d-b945-49f0-b3b7-d19f71a8a0ed",
   "metadata": {},
   "outputs": [],
   "source": [
    "# %%timeit\n",
    "# result = cpu_kernels.two_dim_transpose_blocked(a, 32)"
   ]
  },
  {
   "cell_type": "code",
   "execution_count": 10,
   "id": "7f766ada-1a33-43e8-ac6f-7ad39fa240be",
   "metadata": {},
   "outputs": [],
   "source": [
    "# result - expected"
   ]
  },
  {
   "cell_type": "markdown",
   "id": "c45fd3b0-2dc1-4a53-9167-b21ca595b981",
   "metadata": {},
   "source": [
    "# Prefix Sum"
   ]
  },
  {
   "cell_type": "code",
   "execution_count": 24,
   "id": "97a96ed2-4719-4f7a-9700-3a5df8df831b",
   "metadata": {},
   "outputs": [],
   "source": [
    "test = np.random.rand(10000,10000)"
   ]
  },
  {
   "cell_type": "code",
   "execution_count": 27,
   "id": "30a6346e-0b56-48c4-b56f-524c48f6f170",
   "metadata": {},
   "outputs": [
    {
     "name": "stdout",
     "output_type": "stream",
     "text": [
      "638 ms ± 8.72 ms per loop (mean ± std. dev. of 7 runs, 1 loop each)\n"
     ]
    }
   ],
   "source": [
    "%%timeit\n",
    "found = cpu_kernels.two_dim_prefix_sum(test)"
   ]
  },
  {
   "cell_type": "code",
   "execution_count": 26,
   "id": "9c52e246-f600-4e05-9a3f-bd2d835b59a8",
   "metadata": {},
   "outputs": [
    {
     "name": "stdout",
     "output_type": "stream",
     "text": [
      "1.71 s ± 1.57 ms per loop (mean ± std. dev. of 7 runs, 1 loop each)\n"
     ]
    }
   ],
   "source": [
    "%%timeit\n",
    "expected = np.cumsum(np.cumsum(test, axis=1),axis=0)"
   ]
  },
  {
   "cell_type": "code",
   "execution_count": 19,
   "id": "8d5dc51e-4990-4302-a3a8-570b9c320fbb",
   "metadata": {},
   "outputs": [],
   "source": [
    "expected = np.cumsum(np.cumsum(test, axis=1),axis=0)\n",
    "found = cpu_kernels.two_dim_prefix_sum(test)"
   ]
  },
  {
   "cell_type": "code",
   "execution_count": 20,
   "id": "32e607ae-8104-44e9-b682-3d4f43702898",
   "metadata": {},
   "outputs": [],
   "source": [
    "assert np.allclose(expected, found)"
   ]
  },
  {
   "cell_type": "code",
   "execution_count": 23,
   "id": "97692ddf-fd6a-4d29-a2b8-2196c16ed3a4",
   "metadata": {},
   "outputs": [],
   "source": [
    "# torch.set_num_threads(8)\n",
    "# out = cpu_kernels.two_dim_prefix_sum(test)"
   ]
  },
  {
   "cell_type": "code",
   "execution_count": null,
   "id": "d3f4df96-a82f-44c5-9dea-b76c707d398c",
   "metadata": {},
   "outputs": [],
   "source": []
  }
 ],
 "metadata": {
  "kernelspec": {
   "display_name": "Python 3 (ipykernel)",
   "language": "python",
   "name": "python3"
  },
  "language_info": {
   "codemirror_mode": {
    "name": "ipython",
    "version": 3
   },
   "file_extension": ".py",
   "mimetype": "text/x-python",
   "name": "python",
   "nbconvert_exporter": "python",
   "pygments_lexer": "ipython3",
   "version": "3.13.1"
  }
 },
 "nbformat": 4,
 "nbformat_minor": 5
}

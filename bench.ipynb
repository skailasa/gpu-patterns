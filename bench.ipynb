{
 "cells": [
  {
   "cell_type": "code",
   "execution_count": 1,
   "id": "35fca68e-a835-44c2-995e-e304a464097f",
   "metadata": {},
   "outputs": [
    {
     "name": "stdout",
     "output_type": "stream",
     "text": [
      "ninja: no work to do.\n",
      "[1/2] c++ -MMD -MF prefix_sum.o.d -DTORCH_EXTENSION_NAME=cpu_kernels -DTORCH_API_INCLUDE_EXTENSION_H -DPYBIND11_COMPILER_TYPE=\\\"_gcc\\\" -DPYBIND11_STDLIB=\\\"_libstdcpp\\\" -DPYBIND11_BUILD_ABI=\\\"_cxxabi1018\\\" -isystem /home/sk937/gpu-patterns/.venv/lib/python3.13/site-packages/torch/include -isystem /home/sk937/gpu-patterns/.venv/lib/python3.13/site-packages/torch/include/torch/csrc/api/include -isystem /home/sk937/.local/share/uv/python/cpython-3.13.1-linux-x86_64-gnu/include/python3.13 -fPIC -std=c++17 -O3 -fopenmp -c /home/sk937/gpu-patterns/patterns/cpu_patterns/kernels/prefix_sum.cpp -o prefix_sum.o \n",
      "[2/2] c++ prefix_sum.o -shared -fopenmp -L/home/sk937/gpu-patterns/.venv/lib/python3.13/site-packages/torch/lib -lc10 -ltorch_cpu -ltorch -ltorch_python -o cpu_kernels.so\n"
     ]
    }
   ],
   "source": [
    "import numpy as np\n",
    "import torch\n",
    "\n",
    "from patterns import gpu_kernels, cpu_kernels"
   ]
  },
  {
   "cell_type": "code",
   "execution_count": 2,
   "id": "cfa71337-1e20-4913-9522-89f03d43da5d",
   "metadata": {},
   "outputs": [],
   "source": [
    "np.random.seed(0)"
   ]
  },
  {
   "cell_type": "markdown",
   "id": "5f6a2fa1-9832-4571-8550-55e637afe108",
   "metadata": {},
   "source": [
    "# Transpose"
   ]
  },
  {
   "cell_type": "code",
   "execution_count": 3,
   "id": "3b42740f-0c21-4024-a08d-231292c07571",
   "metadata": {},
   "outputs": [],
   "source": [
    "\n",
    "# a = np.random.rand(1000,1000)"
   ]
  },
  {
   "cell_type": "code",
   "execution_count": 4,
   "id": "41b3589e-0375-4a3e-a899-bd2065866157",
   "metadata": {},
   "outputs": [],
   "source": [
    "# expected = a.T"
   ]
  },
  {
   "cell_type": "code",
   "execution_count": 5,
   "id": "34bfaca9-2e05-40b5-8c1f-c8a64cec8a61",
   "metadata": {},
   "outputs": [],
   "source": [
    "# result = cpu_kernels.two_dim_transpose(a)"
   ]
  },
  {
   "cell_type": "code",
   "execution_count": 6,
   "id": "63f0f890-b8f9-4b02-ad67-81211ad204a7",
   "metadata": {},
   "outputs": [],
   "source": [
    "# np.abs(result - expected)"
   ]
  },
  {
   "cell_type": "code",
   "execution_count": 7,
   "id": "2c1fcb85-8bdf-4692-ac27-9f0425e827f1",
   "metadata": {},
   "outputs": [],
   "source": [
    "# assert np.allclose(result, expected)"
   ]
  },
  {
   "cell_type": "code",
   "execution_count": 8,
   "id": "d58af2d3-29ee-4ca0-b92d-29e35b63b2aa",
   "metadata": {},
   "outputs": [],
   "source": [
    "# %%timeit\n",
    "# result = cpu_kernels.two_dim_transpose(a)"
   ]
  },
  {
   "cell_type": "code",
   "execution_count": 9,
   "id": "e490236d-b945-49f0-b3b7-d19f71a8a0ed",
   "metadata": {},
   "outputs": [],
   "source": [
    "# %%timeit\n",
    "# result = cpu_kernels.two_dim_transpose_blocked(a, 32)"
   ]
  },
  {
   "cell_type": "code",
   "execution_count": 10,
   "id": "7f766ada-1a33-43e8-ac6f-7ad39fa240be",
   "metadata": {},
   "outputs": [],
   "source": [
    "# result - expected"
   ]
  },
  {
   "cell_type": "markdown",
   "id": "c45fd3b0-2dc1-4a53-9167-b21ca595b981",
   "metadata": {},
   "source": [
    "# Prefix Sum"
   ]
  },
  {
   "cell_type": "code",
   "execution_count": 24,
   "id": "97a96ed2-4719-4f7a-9700-3a5df8df831b",
   "metadata": {},
   "outputs": [],
   "source": [
    "test = np.random.rand(10000,10000)"
   ]
  },
  {
   "cell_type": "code",
   "execution_count": 27,
   "id": "30a6346e-0b56-48c4-b56f-524c48f6f170",
   "metadata": {},
   "outputs": [
    {
     "name": "stdout",
     "output_type": "stream",
     "text": [
      "638 ms ± 8.72 ms per loop (mean ± std. dev. of 7 runs, 1 loop each)\n"
     ]
    }
   ],
   "source": [
    "%%timeit\n",
    "found = cpu_kernels.two_dim_prefix_sum(test)"
   ]
  },
  {
   "cell_type": "code",
   "execution_count": 26,
   "id": "9c52e246-f600-4e05-9a3f-bd2d835b59a8",
   "metadata": {},
   "outputs": [
    {
     "name": "stdout",
     "output_type": "stream",
     "text": [
      "1.71 s ± 1.57 ms per loop (mean ± std. dev. of 7 runs, 1 loop each)\n"
     ]
    }
   ],
   "source": [
    "%%timeit\n",
    "expected = np.cumsum(np.cumsum(test, axis=1),axis=0)"
   ]
  },
  {
   "cell_type": "code",
   "execution_count": 19,
   "id": "8d5dc51e-4990-4302-a3a8-570b9c320fbb",
   "metadata": {},
   "outputs": [],
   "source": [
    "expected = np.cumsum(np.cumsum(test, axis=1),axis=0)\n",
    "found = cpu_kernels.two_dim_prefix_sum(test)"
   ]
  },
  {
   "cell_type": "code",
   "execution_count": 20,
   "id": "32e607ae-8104-44e9-b682-3d4f43702898",
   "metadata": {},
   "outputs": [],
   "source": [
    "assert np.allclose(expected, found)"
   ]
  },
  {
   "cell_type": "code",
   "execution_count": 23,
   "id": "97692ddf-fd6a-4d29-a2b8-2196c16ed3a4",
   "metadata": {},
   "outputs": [],
   "source": [
    "# torch.set_num_threads(8)\n",
    "# out = cpu_kernels.two_dim_prefix_sum(test)"
   ]
  },
  {
   "cell_type": "code",
   "execution_count": null,
   "id": "d3f4df96-a82f-44c5-9dea-b76c707d398c",
   "metadata": {},
   "outputs": [],
   "source": []
  }
 ],
 "metadata": {
  "kernelspec": {
   "display_name": "Python 3 (ipykernel)",
   "language": "python",
   "name": "python3"
  },
  "language_info": {
   "codemirror_mode": {
    "name": "ipython",
    "version": 3
   },
   "file_extension": ".py",
   "mimetype": "text/x-python",
   "name": "python",
   "nbconvert_exporter": "python",
   "pygments_lexer": "ipython3",
   "version": "3.13.1"
  }
 },
 "nbformat": 4,
 "nbformat_minor": 5
}

{
 "cells": [
  {
   "cell_type": "code",
   "execution_count": null,
   "id": "35fca68e-a835-44c2-995e-e304a464097f",
   "metadata": {},
   "outputs": [],
   "source": []
  }
 ],
 "metadata": {
  "kernelspec": {
   "display_name": "",
   "name": ""
  },
  "language_info": {
   "name": ""
  }
 },
 "nbformat": 4,
 "nbformat_minor": 5
}
